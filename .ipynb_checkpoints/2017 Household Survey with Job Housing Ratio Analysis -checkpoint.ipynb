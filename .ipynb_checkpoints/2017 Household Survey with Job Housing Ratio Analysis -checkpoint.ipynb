{
 "cells": [
  {
   "cell_type": "code",
   "execution_count": 1,
   "metadata": {
    "collapsed": true
   },
   "outputs": [],
   "source": [
    "import pandas as pd \n",
    "import numpy as np \n",
    "%matplotlib inline\n",
    "import matplotlib.pyplot as plt\n",
    "from matplotlib import pyplot\n",
    "import os, sys, shutil, math, h5py\n"
   ]
  },
  {
   "cell_type": "code",
   "execution_count": 4,
   "metadata": {
    "collapsed": true
   },
   "outputs": [],
   "source": [
    "HOUSEHOLD_INPUT_PATH = r'H:\\Tableau\\HHSurvey2017'\n",
    "MODEL_INPUT_PATH = r'U:\\angela\\job_housing\\soundcast_2050\\job_housing_commute\\final_set'"
   ]
  },
  {
   "cell_type": "code",
   "execution_count": 15,
   "metadata": {
    "collapsed": false
   },
   "outputs": [],
   "source": [
    "hh_weight = pd.read_csv(os.path.join(HOUSEHOLD_INPUT_PATH,r'PSRC_Weights_Delivered_06132018_hh.csv'))\n",
    "hh = pd.read_csv(os.path.join(HOUSEHOLD_INPUT_PATH, r'published_survey_2017\\2017-pr2-1-household.csv'))\n",
    "trip = pd.read_csv(os.path.join(HOUSEHOLD_INPUT_PATH, r'published_survey_2017\\2017-pr2-5-trip.csv'))\n",
    "person = pd.read_csv(os.path.join(HOUSEHOLD_INPUT_PATH, r'published_survey_2017\\2017-pr2-2-person.csv'))"
   ]
  },
  {
   "cell_type": "code",
   "execution_count": 92,
   "metadata": {
    "collapsed": false
   },
   "outputs": [],
   "source": [
    "my_trip = trip[['hhid', 'personid', 'pernum', 'tripid', 'hhgroup', 'nwkdays','trip_path_distance',\n",
    "                'depart_time_mam', 'arrival_time_mam', 'google_duration', 'origin_purpose', 'dest_purpose', \n",
    "                'mode_1', 'travelers_hh', 'travelers_nonhh', 'travelers_total', 'dayofweek', 'o_taz2010', 'd_taz2010', \n",
    "                'hh_day_wt_revised', 'trip_weight_revised']]"
   ]
  },
  {
   "cell_type": "code",
   "execution_count": 94,
   "metadata": {
    "collapsed": false
   },
   "outputs": [
    {
     "name": "stderr",
     "output_type": "stream",
     "text": [
      "C:\\Users\\Angela\\AppData\\Local\\Continuum\\Anaconda2\\lib\\site-packages\\ipykernel\\__main__.py:1: SettingWithCopyWarning: \n",
      "A value is trying to be set on a copy of a slice from a DataFrame.\n",
      "Try using .loc[row_indexer,col_indexer] = value instead\n",
      "\n",
      "See the caveats in the documentation: http://pandas.pydata.org/pandas-docs/stable/indexing.html#indexing-view-versus-copy\n",
      "  if __name__ == '__main__':\n"
     ]
    }
   ],
   "source": [
    "my_trip['hbw_trips'] = 0\n",
    "my_trip.ix[(((my_trip['origin_purpose']==1) & (my_trip['dest_purpose']==11)) | ((my_trip['origin_purpose']==1) & (my_trip['dest_purpose']==12)) | ((my_trip['origin_purpose']==1) & (my_trip['dest_purpose']==14))  ),'hbw_trips']= 1"
   ]
  },
  {
   "cell_type": "code",
   "execution_count": 201,
   "metadata": {
    "collapsed": false
   },
   "outputs": [],
   "source": [
    "hbw = my_trip[my_trip['hbw_trips']==1]"
   ]
  },
  {
   "cell_type": "code",
   "execution_count": 212,
   "metadata": {
    "collapsed": false
   },
   "outputs": [
    {
     "name": "stdout",
     "output_type": "stream",
     "text": [
      "weighted mean distance in the region:  11.7969861398\n"
     ]
    },
    {
     "name": "stderr",
     "output_type": "stream",
     "text": [
      "C:\\Users\\Angela\\AppData\\Local\\Continuum\\Anaconda2\\lib\\site-packages\\ipykernel\\__main__.py:1: SettingWithCopyWarning: \n",
      "A value is trying to be set on a copy of a slice from a DataFrame.\n",
      "Try using .loc[row_indexer,col_indexer] = value instead\n",
      "\n",
      "See the caveats in the documentation: http://pandas.pydata.org/pandas-docs/stable/indexing.html#indexing-view-versus-copy\n",
      "  if __name__ == '__main__':\n",
      "C:\\Users\\Angela\\AppData\\Local\\Continuum\\Anaconda2\\lib\\site-packages\\ipykernel\\__main__.py:2: SettingWithCopyWarning: \n",
      "A value is trying to be set on a copy of a slice from a DataFrame.\n",
      "Try using .loc[row_indexer,col_indexer] = value instead\n",
      "\n",
      "See the caveats in the documentation: http://pandas.pydata.org/pandas-docs/stable/indexing.html#indexing-view-versus-copy\n",
      "  from ipykernel import kernelapp as app\n"
     ]
    }
   ],
   "source": [
    "hbw['trip_path_distance'] = pd.to_numeric(hbw['trip_path_distance'], errors='raise')\n",
    "hbw['trip_path_distance_wt'] = hbw['trip_path_distance'] * hbw['trip_weight_revised']\n",
    "\n",
    "print 'weighted mean distance in the region: ', hbw['trip_path_distance_wt'].sum()/hbw['trip_weight_revised'].sum()"
   ]
  },
  {
   "cell_type": "code",
   "execution_count": 206,
   "metadata": {
    "collapsed": false
   },
   "outputs": [],
   "source": [
    "hbw_groupby = hbw[['o_taz2010', 'd_taz2010', 'trip_path_distance_wt', 'trip_weight_revised']].groupby('o_taz2010').sum()\n",
    "hbw_groupby.reset_index(inplace=True)\n",
    "hbw_groupby['mean_trip_path_distance'] = hbw_groupby['trip_path_distance_wt'] / hbw_groupby['trip_weight_revised']"
   ]
  },
  {
   "cell_type": "code",
   "execution_count": 214,
   "metadata": {
    "collapsed": false
   },
   "outputs": [
    {
     "data": {
      "text/html": [
       "<div>\n",
       "<table border=\"1\" class=\"dataframe\">\n",
       "  <thead>\n",
       "    <tr style=\"text-align: right;\">\n",
       "      <th></th>\n",
       "      <th>o_taz2010</th>\n",
       "      <th>d_taz2010</th>\n",
       "      <th>trip_path_distance_wt</th>\n",
       "      <th>trip_weight_revised</th>\n",
       "      <th>mean_trip_path_distance</th>\n",
       "    </tr>\n",
       "  </thead>\n",
       "  <tbody>\n",
       "    <tr>\n",
       "      <th>0</th>\n",
       "      <td>3.0</td>\n",
       "      <td>9031.0</td>\n",
       "      <td>1324.790375</td>\n",
       "      <td>311.538055</td>\n",
       "      <td>4.252419</td>\n",
       "    </tr>\n",
       "    <tr>\n",
       "      <th>1</th>\n",
       "      <td>4.0</td>\n",
       "      <td>3366.0</td>\n",
       "      <td>374.714081</td>\n",
       "      <td>39.460652</td>\n",
       "      <td>9.495892</td>\n",
       "    </tr>\n",
       "    <tr>\n",
       "      <th>2</th>\n",
       "      <td>23.0</td>\n",
       "      <td>5374.0</td>\n",
       "      <td>516.410604</td>\n",
       "      <td>32.593691</td>\n",
       "      <td>15.843882</td>\n",
       "    </tr>\n",
       "    <tr>\n",
       "      <th>3</th>\n",
       "      <td>24.0</td>\n",
       "      <td>457.0</td>\n",
       "      <td>0.000000</td>\n",
       "      <td>0.000000</td>\n",
       "      <td>NaN</td>\n",
       "    </tr>\n",
       "    <tr>\n",
       "      <th>4</th>\n",
       "      <td>25.0</td>\n",
       "      <td>281.0</td>\n",
       "      <td>633.393726</td>\n",
       "      <td>191.937493</td>\n",
       "      <td>3.300000</td>\n",
       "    </tr>\n",
       "  </tbody>\n",
       "</table>\n",
       "</div>"
      ],
      "text/plain": [
       "   o_taz2010  d_taz2010  trip_path_distance_wt  trip_weight_revised  \\\n",
       "0        3.0     9031.0            1324.790375           311.538055   \n",
       "1        4.0     3366.0             374.714081            39.460652   \n",
       "2       23.0     5374.0             516.410604            32.593691   \n",
       "3       24.0      457.0               0.000000             0.000000   \n",
       "4       25.0      281.0             633.393726           191.937493   \n",
       "\n",
       "   mean_trip_path_distance  \n",
       "0                 4.252419  \n",
       "1                 9.495892  \n",
       "2                15.843882  \n",
       "3                      NaN  \n",
       "4                 3.300000  "
      ]
     },
     "execution_count": 214,
     "metadata": {},
     "output_type": "execute_result"
    }
   ],
   "source": [
    "hbw_groupby.head()"
   ]
  },
  {
   "cell_type": "markdown",
   "metadata": {},
   "source": [
    "# 2014 model output "
   ]
  },
  {
   "cell_type": "code",
   "execution_count": 141,
   "metadata": {
    "collapsed": false
   },
   "outputs": [
    {
     "name": "stdout",
     "output_type": "stream",
     "text": [
      "commute_taz_2014_30mins_stc.csv\n"
     ]
    }
   ],
   "source": [
    "year = '2014'\n",
    "scenario = 'stc'\n",
    "hh_tot = 'hh_' + year\n",
    "TAZ_file = 'commute_taz_' + year + '_30mins_' + scenario + '.csv'\n",
    "print TAZ_file\n",
    "taz_df = pd.read_csv(os.path.join(MODEL_INPUT_PATH, TAZ_file))"
   ]
  },
  {
   "cell_type": "code",
   "execution_count": 191,
   "metadata": {
    "collapsed": true
   },
   "outputs": [],
   "source": [
    "model_df = taz_df[['mean_dist','mean_time', hh_tot,'job_housing_ratio', 'TAZ_P', 'county_id']]"
   ]
  },
  {
   "cell_type": "code",
   "execution_count": 196,
   "metadata": {
    "collapsed": false
   },
   "outputs": [
    {
     "data": {
      "text/plain": [
       "11.17821238095094"
      ]
     },
     "execution_count": 196,
     "metadata": {},
     "output_type": "execute_result"
    }
   ],
   "source": [
    "model_df['mean_dist'].mean()"
   ]
  },
  {
   "cell_type": "markdown",
   "metadata": {},
   "source": [
    "# compare difference"
   ]
  },
  {
   "cell_type": "code",
   "execution_count": 231,
   "metadata": {
    "collapsed": false
   },
   "outputs": [],
   "source": [
    "survey_n_model = pd.merge(left = model_df, right = hbw_groupby, left_on='TAZ_P', right_on = 'o_taz2010', how = 'right')"
   ]
  },
  {
   "cell_type": "code",
   "execution_count": 232,
   "metadata": {
    "collapsed": false
   },
   "outputs": [],
   "source": [
    "survey_n_model.to_csv(os.path.join(MODEL_INPUT_PATH, '2017HHsurvey_TAZ_commute_distance.csv'))"
   ]
  },
  {
   "cell_type": "code",
   "execution_count": null,
   "metadata": {
    "collapsed": true
   },
   "outputs": [],
   "source": []
  },
  {
   "cell_type": "code",
   "execution_count": 233,
   "metadata": {
    "collapsed": true
   },
   "outputs": [],
   "source": [
    "survey_n_model['diff'] = survey_n_model['mean_dist'] - survey_n_model['mean_trip_path_distance']"
   ]
  },
  {
   "cell_type": "code",
   "execution_count": 234,
   "metadata": {
    "collapsed": false
   },
   "outputs": [
    {
     "data": {
      "text/plain": [
       "Index([u'mean_dist', u'mean_time', u'hh_2014', u'job_housing_ratio', u'TAZ_P',\n",
       "       u'county_id', u'o_taz2010', u'd_taz2010', u'trip_path_distance_wt',\n",
       "       u'trip_weight_revised', u'mean_trip_path_distance', u'diff'],\n",
       "      dtype='object')"
      ]
     },
     "execution_count": 234,
     "metadata": {},
     "output_type": "execute_result"
    }
   ],
   "source": [
    "survey_n_model.columns"
   ]
  },
  {
   "cell_type": "code",
   "execution_count": 235,
   "metadata": {
    "collapsed": false
   },
   "outputs": [
    {
     "data": {
      "text/plain": [
       "233"
      ]
     },
     "execution_count": 235,
     "metadata": {},
     "output_type": "execute_result"
    }
   ],
   "source": [
    "len(np.unique(survey_n_model['o_taz2010']))"
   ]
  },
  {
   "cell_type": "code",
   "execution_count": 253,
   "metadata": {
    "collapsed": false
   },
   "outputs": [
    {
     "data": {
      "text/plain": [
       "[-50, 50, 0, 20000]"
      ]
     },
     "execution_count": 253,
     "metadata": {},
     "output_type": "execute_result"
    },
    {
     "data": {
      "image/png": "[encoded data removed]",
      "text/plain": [
       "<matplotlib.figure.Figure at 0xc888358>"
      ]
     },
     "metadata": {},
     "output_type": "display_data"
    }
   ],
   "source": [
    "my_df = survey_n_model[['job_housing_ratio', hh_tot, 'diff']]\n",
    "my_df = survey_n_model.dropna()\n",
    "y = my_df[hh_tot]\n",
    "plt.hist(my_df['diff'], bins=100, weights=y, histtype='bar', color=None)\n",
    "plt.ylabel(\"household numbers\")\n",
    "plt.xlabel(\"travel distance diff: model - survey\")\n",
    "plt.axis([-50, 50, 0, 20000]) "
   ]
  },
  {
   "cell_type": "code",
   "execution_count": 250,
   "metadata": {
    "collapsed": false
   },
   "outputs": [
    {
     "data": {
      "text/plain": [
       "[0, 2.5, 0, 20000]"
      ]
     },
     "execution_count": 250,
     "metadata": {},
     "output_type": "execute_result"
    },
    {
     "data": {
      "image/png": "[encoded data removed]",
      "text/plain": [
       "<matplotlib.figure.Figure at 0xc840b38>"
      ]
     },
     "metadata": {},
     "output_type": "display_data"
    }
   ],
   "source": [
    "my_df = survey_n_model[['job_housing_ratio', hh_tot, 'diff']]\n",
    "my_df = survey_n_model.dropna()\n",
    "y = my_df[hh_tot]\n",
    "plt.hist(my_df['job_housing_ratio'], bins=100, weights=y, histtype='bar', color=None)\n",
    "plt.ylabel(\"household numbers\")\n",
    "plt.xlabel(\"job_housing_ratio\")\n",
    "plt.axis([0, 2.5, 0, 20000]) "
   ]
  },
  {
   "cell_type": "code",
   "execution_count": 254,
   "metadata": {
    "collapsed": false
   },
   "outputs": [
    {
     "data": {
      "image/png": "[encoded data removed]",
      "text/plain": [
       "<matplotlib.figure.Figure at 0x131fbf28>"
      ]
     },
     "metadata": {},
     "output_type": "display_data"
    }
   ],
   "source": [
    "my_df = survey_n_model[survey_n_model['diff']!=0][['job_housing_ratio']]\n",
    "my_df.hist(bins=100, figsize=(10,5))\n",
    "plt.axis([0,2.5, 0, 20]) \n",
    "plt.ylabel(\"TAZ numbers\")\n",
    "plt.xlabel(\"job_housing_ratio\")\n",
    "plt.show()"
   ]
  },
  {
   "cell_type": "code",
   "execution_count": 252,
   "metadata": {
    "collapsed": false
   },
   "outputs": [
    {
     "data": {
      "text/plain": [
       "[0, 2.5, -50, 50]"
      ]
     },
     "execution_count": 252,
     "metadata": {},
     "output_type": "execute_result"
    },
    {
     "data": {
      "image/png": "[encoded data removed]",
      "text/plain": [
       "<matplotlib.figure.Figure at 0xc8596d8>"
      ]
     },
     "metadata": {},
     "output_type": "display_data"
    }
   ],
   "source": [
    "my_df = survey_n_model[['job_housing_ratio', hh_tot, 'diff']]\n",
    "my_df = survey_n_model.dropna()\n",
    "y = my_df['diff']\n",
    "plt.hist(my_df['job_housing_ratio'], bins=100, weights=y, histtype='bar', color=None)\n",
    "plt.ylabel(\"travel distance diff: model - survey\")\n",
    "plt.xlabel(\"job_housing_ratio\")\n",
    "plt.axis([0, 2.5, -50, 50]) "
   ]
  },
  {
   "cell_type": "markdown",
   "metadata": {},
   "source": [
    "# county level analysis"
   ]
  },
  {
   "cell_type": "code",
   "execution_count": 215,
   "metadata": {
    "collapsed": false
   },
   "outputs": [],
   "source": [
    "my_hh = hh[['hhid', 'hhgroup', 'hhsize', 'numworkers', 'sample_county', 'final_home_taz2010', 'hh_day_wt_revised']]"
   ]
  },
  {
   "cell_type": "code",
   "execution_count": 216,
   "metadata": {
    "collapsed": true
   },
   "outputs": [],
   "source": [
    "my_person = person[['hhid', 'personid', 'work_taz2010', 'hh_day_wt_revised']]"
   ]
  },
  {
   "cell_type": "code",
   "execution_count": 222,
   "metadata": {
    "collapsed": false
   },
   "outputs": [],
   "source": [
    "hh_hbw = pd.merge (left = hbw_groupby, right = my_hh, left_on = 'o_taz2010', right_on = 'final_home_taz2010', how = 'left')\n"
   ]
  },
  {
   "cell_type": "code",
   "execution_count": 223,
   "metadata": {
    "collapsed": false
   },
   "outputs": [
    {
     "data": {
      "text/plain": [
       "Index([u'o_taz2010', u'd_taz2010', u'trip_path_distance_wt',\n",
       "       u'trip_weight_revised', u'mean_trip_path_distance', u'hhid', u'hhgroup',\n",
       "       u'hhsize', u'numworkers', u'sample_county', u'final_home_taz2010',\n",
       "       u'hh_day_wt_revised'],\n",
       "      dtype='object')"
      ]
     },
     "execution_count": 223,
     "metadata": {},
     "output_type": "execute_result"
    }
   ],
   "source": [
    "hh_hbw.columns"
   ]
  },
  {
   "cell_type": "code",
   "execution_count": 224,
   "metadata": {
    "collapsed": false
   },
   "outputs": [
    {
     "data": {
      "text/html": [
       "<div>\n",
       "<table border=\"1\" class=\"dataframe\">\n",
       "  <thead>\n",
       "    <tr style=\"text-align: right;\">\n",
       "      <th></th>\n",
       "      <th>o_taz2010</th>\n",
       "      <th>d_taz2010</th>\n",
       "      <th>trip_path_distance_wt</th>\n",
       "      <th>trip_weight_revised</th>\n",
       "      <th>mean_trip_path_distance</th>\n",
       "      <th>hhid</th>\n",
       "      <th>hhgroup</th>\n",
       "      <th>hhsize</th>\n",
       "      <th>numworkers</th>\n",
       "      <th>sample_county</th>\n",
       "      <th>final_home_taz2010</th>\n",
       "      <th>hh_day_wt_revised</th>\n",
       "    </tr>\n",
       "  </thead>\n",
       "  <tbody>\n",
       "    <tr>\n",
       "      <th>0</th>\n",
       "      <td>3.0</td>\n",
       "      <td>9031.0</td>\n",
       "      <td>1324.790375</td>\n",
       "      <td>311.538055</td>\n",
       "      <td>4.252419</td>\n",
       "      <td>17100939.0</td>\n",
       "      <td>2.0</td>\n",
       "      <td>4.0</td>\n",
       "      <td>1.0</td>\n",
       "      <td>King</td>\n",
       "      <td>3.0</td>\n",
       "      <td>13.650429</td>\n",
       "    </tr>\n",
       "    <tr>\n",
       "      <th>1</th>\n",
       "      <td>3.0</td>\n",
       "      <td>9031.0</td>\n",
       "      <td>1324.790375</td>\n",
       "      <td>311.538055</td>\n",
       "      <td>4.252419</td>\n",
       "      <td>17102275.0</td>\n",
       "      <td>1.0</td>\n",
       "      <td>2.0</td>\n",
       "      <td>1.0</td>\n",
       "      <td>King</td>\n",
       "      <td>3.0</td>\n",
       "      <td>0.000000</td>\n",
       "    </tr>\n",
       "    <tr>\n",
       "      <th>2</th>\n",
       "      <td>3.0</td>\n",
       "      <td>9031.0</td>\n",
       "      <td>1324.790375</td>\n",
       "      <td>311.538055</td>\n",
       "      <td>4.252419</td>\n",
       "      <td>17107602.0</td>\n",
       "      <td>2.0</td>\n",
       "      <td>1.0</td>\n",
       "      <td>0.0</td>\n",
       "      <td>King</td>\n",
       "      <td>3.0</td>\n",
       "      <td>17.327455</td>\n",
       "    </tr>\n",
       "    <tr>\n",
       "      <th>3</th>\n",
       "      <td>3.0</td>\n",
       "      <td>9031.0</td>\n",
       "      <td>1324.790375</td>\n",
       "      <td>311.538055</td>\n",
       "      <td>4.252419</td>\n",
       "      <td>17110071.0</td>\n",
       "      <td>2.0</td>\n",
       "      <td>2.0</td>\n",
       "      <td>2.0</td>\n",
       "      <td>King</td>\n",
       "      <td>3.0</td>\n",
       "      <td>294.210600</td>\n",
       "    </tr>\n",
       "    <tr>\n",
       "      <th>4</th>\n",
       "      <td>3.0</td>\n",
       "      <td>9031.0</td>\n",
       "      <td>1324.790375</td>\n",
       "      <td>311.538055</td>\n",
       "      <td>4.252419</td>\n",
       "      <td>17118879.0</td>\n",
       "      <td>2.0</td>\n",
       "      <td>1.0</td>\n",
       "      <td>1.0</td>\n",
       "      <td>King</td>\n",
       "      <td>3.0</td>\n",
       "      <td>13.470713</td>\n",
       "    </tr>\n",
       "  </tbody>\n",
       "</table>\n",
       "</div>"
      ],
      "text/plain": [
       "   o_taz2010  d_taz2010  trip_path_distance_wt  trip_weight_revised  \\\n",
       "0        3.0     9031.0            1324.790375           311.538055   \n",
       "1        3.0     9031.0            1324.790375           311.538055   \n",
       "2        3.0     9031.0            1324.790375           311.538055   \n",
       "3        3.0     9031.0            1324.790375           311.538055   \n",
       "4        3.0     9031.0            1324.790375           311.538055   \n",
       "\n",
       "   mean_trip_path_distance        hhid  hhgroup  hhsize  numworkers  \\\n",
       "0                 4.252419  17100939.0      2.0     4.0         1.0   \n",
       "1                 4.252419  17102275.0      1.0     2.0         1.0   \n",
       "2                 4.252419  17107602.0      2.0     1.0         0.0   \n",
       "3                 4.252419  17110071.0      2.0     2.0         2.0   \n",
       "4                 4.252419  17118879.0      2.0     1.0         1.0   \n",
       "\n",
       "  sample_county  final_home_taz2010  hh_day_wt_revised  \n",
       "0          King                 3.0          13.650429  \n",
       "1          King                 3.0           0.000000  \n",
       "2          King                 3.0          17.327455  \n",
       "3          King                 3.0         294.210600  \n",
       "4          King                 3.0          13.470713  "
      ]
     },
     "execution_count": 224,
     "metadata": {},
     "output_type": "execute_result"
    }
   ],
   "source": [
    "hh_hbw.head()"
   ]
  },
  {
   "cell_type": "code",
   "execution_count": 225,
   "metadata": {
    "collapsed": true
   },
   "outputs": [],
   "source": [
    "hh_hbw['weighted_workers'] = hh_hbw['numworkers']* hh_hbw['hh_day_wt_revised']\n",
    "hh_hbw['weighted_workers_distance'] = hh_hbw['weighted_workers'] * hh_hbw['mean_trip_path_distance']"
   ]
  },
  {
   "cell_type": "code",
   "execution_count": 259,
   "metadata": {
    "collapsed": true
   },
   "outputs": [],
   "source": [
    "hh_hbw_groupby_size = hh_hbw[['sample_county', 'o_taz2010', 'd_taz2010', \n",
    "                         'weighted_workers_distance', \n",
    "                         'weighted_workers']].groupby('sample_county').size()"
   ]
  },
  {
   "cell_type": "code",
   "execution_count": 260,
   "metadata": {
    "collapsed": false
   },
   "outputs": [
    {
     "data": {
      "text/plain": [
       "sample_county\n",
       "King         1816\n",
       "Kitsap          4\n",
       "Pierce         19\n",
       "Snohomish      14\n",
       "dtype: int64"
      ]
     },
     "execution_count": 260,
     "metadata": {},
     "output_type": "execute_result"
    }
   ],
   "source": [
    "hh_hbw_groupby_size"
   ]
  },
  {
   "cell_type": "code",
   "execution_count": 261,
   "metadata": {
    "collapsed": false
   },
   "outputs": [],
   "source": [
    "hh_hbw_groupby = hh_hbw[['sample_county', 'o_taz2010', 'd_taz2010', \n",
    "                         'weighted_workers_distance', \n",
    "                         'weighted_workers']].groupby('sample_county').sum()"
   ]
  },
  {
   "cell_type": "code",
   "execution_count": 262,
   "metadata": {
    "collapsed": false
   },
   "outputs": [
    {
     "data": {
      "text/html": [
       "<div>\n",
       "<table border=\"1\" class=\"dataframe\">\n",
       "  <thead>\n",
       "    <tr style=\"text-align: right;\">\n",
       "      <th></th>\n",
       "      <th>o_taz2010</th>\n",
       "      <th>d_taz2010</th>\n",
       "      <th>weighted_workers_distance</th>\n",
       "      <th>weighted_workers</th>\n",
       "    </tr>\n",
       "    <tr>\n",
       "      <th>sample_county</th>\n",
       "      <th></th>\n",
       "      <th></th>\n",
       "      <th></th>\n",
       "      <th></th>\n",
       "    </tr>\n",
       "  </thead>\n",
       "  <tbody>\n",
       "    <tr>\n",
       "      <th>King</th>\n",
       "      <td>1314110.0</td>\n",
       "      <td>6028930.0</td>\n",
       "      <td>2.507426e+06</td>\n",
       "      <td>228725.015026</td>\n",
       "    </tr>\n",
       "    <tr>\n",
       "      <th>Kitsap</th>\n",
       "      <td>14514.0</td>\n",
       "      <td>24886.0</td>\n",
       "      <td>1.683605e+04</td>\n",
       "      <td>1543.500939</td>\n",
       "    </tr>\n",
       "    <tr>\n",
       "      <th>Pierce</th>\n",
       "      <td>57293.0</td>\n",
       "      <td>115349.0</td>\n",
       "      <td>6.155252e+05</td>\n",
       "      <td>55057.756503</td>\n",
       "    </tr>\n",
       "    <tr>\n",
       "      <th>Snohomish</th>\n",
       "      <td>33248.0</td>\n",
       "      <td>21541.0</td>\n",
       "      <td>1.346929e+05</td>\n",
       "      <td>7588.118336</td>\n",
       "    </tr>\n",
       "  </tbody>\n",
       "</table>\n",
       "</div>"
      ],
      "text/plain": [
       "               o_taz2010  d_taz2010  weighted_workers_distance  \\\n",
       "sample_county                                                    \n",
       "King           1314110.0  6028930.0               2.507426e+06   \n",
       "Kitsap           14514.0    24886.0               1.683605e+04   \n",
       "Pierce           57293.0   115349.0               6.155252e+05   \n",
       "Snohomish        33248.0    21541.0               1.346929e+05   \n",
       "\n",
       "               weighted_workers  \n",
       "sample_county                    \n",
       "King              228725.015026  \n",
       "Kitsap              1543.500939  \n",
       "Pierce             55057.756503  \n",
       "Snohomish           7588.118336  "
      ]
     },
     "execution_count": 262,
     "metadata": {},
     "output_type": "execute_result"
    }
   ],
   "source": [
    "hh_hbw_groupby"
   ]
  },
  {
   "cell_type": "code",
   "execution_count": 263,
   "metadata": {
    "collapsed": true
   },
   "outputs": [],
   "source": [
    "hh_hbw_groupby['averaged_workers_distance'] = hh_hbw_groupby['weighted_workers_distance'] / hh_hbw_groupby['weighted_workers']"
   ]
  },
  {
   "cell_type": "code",
   "execution_count": 264,
   "metadata": {
    "collapsed": false
   },
   "outputs": [
    {
     "data": {
      "text/html": [
       "<div>\n",
       "<table border=\"1\" class=\"dataframe\">\n",
       "  <thead>\n",
       "    <tr style=\"text-align: right;\">\n",
       "      <th></th>\n",
       "      <th>o_taz2010</th>\n",
       "      <th>d_taz2010</th>\n",
       "      <th>weighted_workers_distance</th>\n",
       "      <th>weighted_workers</th>\n",
       "      <th>averaged_workers_distance</th>\n",
       "    </tr>\n",
       "    <tr>\n",
       "      <th>sample_county</th>\n",
       "      <th></th>\n",
       "      <th></th>\n",
       "      <th></th>\n",
       "      <th></th>\n",
       "      <th></th>\n",
       "    </tr>\n",
       "  </thead>\n",
       "  <tbody>\n",
       "    <tr>\n",
       "      <th>King</th>\n",
       "      <td>1314110.0</td>\n",
       "      <td>6028930.0</td>\n",
       "      <td>2.507426e+06</td>\n",
       "      <td>228725.015026</td>\n",
       "      <td>10.962623</td>\n",
       "    </tr>\n",
       "    <tr>\n",
       "      <th>Kitsap</th>\n",
       "      <td>14514.0</td>\n",
       "      <td>24886.0</td>\n",
       "      <td>1.683605e+04</td>\n",
       "      <td>1543.500939</td>\n",
       "      <td>10.907703</td>\n",
       "    </tr>\n",
       "    <tr>\n",
       "      <th>Pierce</th>\n",
       "      <td>57293.0</td>\n",
       "      <td>115349.0</td>\n",
       "      <td>6.155252e+05</td>\n",
       "      <td>55057.756503</td>\n",
       "      <td>11.179627</td>\n",
       "    </tr>\n",
       "    <tr>\n",
       "      <th>Snohomish</th>\n",
       "      <td>33248.0</td>\n",
       "      <td>21541.0</td>\n",
       "      <td>1.346929e+05</td>\n",
       "      <td>7588.118336</td>\n",
       "      <td>17.750501</td>\n",
       "    </tr>\n",
       "  </tbody>\n",
       "</table>\n",
       "</div>"
      ],
      "text/plain": [
       "               o_taz2010  d_taz2010  weighted_workers_distance  \\\n",
       "sample_county                                                    \n",
       "King           1314110.0  6028930.0               2.507426e+06   \n",
       "Kitsap           14514.0    24886.0               1.683605e+04   \n",
       "Pierce           57293.0   115349.0               6.155252e+05   \n",
       "Snohomish        33248.0    21541.0               1.346929e+05   \n",
       "\n",
       "               weighted_workers  averaged_workers_distance  \n",
       "sample_county                                               \n",
       "King              228725.015026                  10.962623  \n",
       "Kitsap              1543.500939                  10.907703  \n",
       "Pierce             55057.756503                  11.179627  \n",
       "Snohomish           7588.118336                  17.750501  "
      ]
     },
     "execution_count": 264,
     "metadata": {},
     "output_type": "execute_result"
    }
   ],
   "source": [
    "hh_hbw_groupby"
   ]
  },
  {
   "cell_type": "code",
   "execution_count": 265,
   "metadata": {
    "collapsed": false
   },
   "outputs": [
    {
     "data": {
      "text/html": [
       "<div>\n",
       "<table border=\"1\" class=\"dataframe\">\n",
       "  <thead>\n",
       "    <tr style=\"text-align: right;\">\n",
       "      <th></th>\n",
       "      <th>mean_dist</th>\n",
       "      <th>mean_time</th>\n",
       "      <th>hh_2014</th>\n",
       "      <th>job_housing_ratio</th>\n",
       "      <th>TAZ_P</th>\n",
       "    </tr>\n",
       "    <tr>\n",
       "      <th>county_id</th>\n",
       "      <th></th>\n",
       "      <th></th>\n",
       "      <th></th>\n",
       "      <th></th>\n",
       "      <th></th>\n",
       "    </tr>\n",
       "  </thead>\n",
       "  <tbody>\n",
       "    <tr>\n",
       "      <th>33.0</th>\n",
       "      <td>10.041719</td>\n",
       "      <td>26.807117</td>\n",
       "      <td>431.922112</td>\n",
       "      <td>1.639959</td>\n",
       "      <td>1060.933089</td>\n",
       "    </tr>\n",
       "    <tr>\n",
       "      <th>35.0</th>\n",
       "      <td>8.949723</td>\n",
       "      <td>21.178843</td>\n",
       "      <td>425.435345</td>\n",
       "      <td>1.056824</td>\n",
       "      <td>3584.116379</td>\n",
       "    </tr>\n",
       "    <tr>\n",
       "      <th>53.0</th>\n",
       "      <td>12.832631</td>\n",
       "      <td>31.126679</td>\n",
       "      <td>435.224460</td>\n",
       "      <td>1.006837</td>\n",
       "      <td>3070.224460</td>\n",
       "    </tr>\n",
       "    <tr>\n",
       "      <th>61.0</th>\n",
       "      <td>13.760603</td>\n",
       "      <td>33.428755</td>\n",
       "      <td>486.096661</td>\n",
       "      <td>1.026192</td>\n",
       "      <td>2379.397188</td>\n",
       "    </tr>\n",
       "  </tbody>\n",
       "</table>\n",
       "</div>"
      ],
      "text/plain": [
       "           mean_dist  mean_time     hh_2014  job_housing_ratio        TAZ_P\n",
       "county_id                                                                  \n",
       "33.0       10.041719  26.807117  431.922112           1.639959  1060.933089\n",
       "35.0        8.949723  21.178843  425.435345           1.056824  3584.116379\n",
       "53.0       12.832631  31.126679  435.224460           1.006837  3070.224460\n",
       "61.0       13.760603  33.428755  486.096661           1.026192  2379.397188"
      ]
     },
     "execution_count": 265,
     "metadata": {},
     "output_type": "execute_result"
    }
   ],
   "source": [
    "model_df.groupby('county_id').mean()"
   ]
  },
  {
   "cell_type": "code",
   "execution_count": null,
   "metadata": {
    "collapsed": true
   },
   "outputs": [],
   "source": []
  },
  {
   "cell_type": "code",
   "execution_count": null,
   "metadata": {
    "collapsed": true
   },
   "outputs": [],
   "source": []
  }
 ],
 "metadata": {
  "kernelspec": {
   "display_name": "Python 2",
   "language": "python",
   "name": "python2"
  },
  "language_info": {
   "codemirror_mode": {
    "name": "ipython",
    "version": 2
   },
   "file_extension": ".py",
   "mimetype": "text/x-python",
   "name": "python",
   "nbconvert_exporter": "python",
   "pygments_lexer": "ipython2",
   "version": "2.7.13"
  }
 },
 "nbformat": 4,
 "nbformat_minor": 2
}
